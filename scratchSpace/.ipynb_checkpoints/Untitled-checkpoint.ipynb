{
 "cells": [
  {
   "cell_type": "code",
   "execution_count": 1,
   "metadata": {},
   "outputs": [],
   "source": [
    "%matplotlib inline\n",
    "import numpy as np\n",
    "import matplotlib.pyplot as plt\n",
    "import pandas as pd"
   ]
  },
  {
   "cell_type": "code",
   "execution_count": 2,
   "metadata": {},
   "outputs": [],
   "source": [
    "# convert inches to meters\n",
    "def to_m(inches):\n",
    "    return inches*0.0254\n",
    "\n",
    "# convert pounds to kilograms\n",
    "def to_kg(pounds):\n",
    "    return pounds*0.453592\n",
    "\n",
    "# convert psi to pascals\n",
    "def to_pa(psi):\n",
    "    return psi*6894.757"
   ]
  },
  {
   "cell_type": "code",
   "execution_count": 4,
   "metadata": {},
   "outputs": [],
   "source": [
    "# calculate area moment of inertia of a rectangluar cross-section of sides a and b\n",
    "def moment_of_inertia(a, b):\n",
    "    I = a*np.power(b, 3)/12.\n",
    "    return I"
   ]
  },
  {
   "cell_type": "code",
   "execution_count": 5,
   "metadata": {},
   "outputs": [],
   "source": [
    "# calculate elastic deflection of a cantilever beam of length L, area moment of inertia I, and Young's modulus E with an end-load P\n",
    "def deflection(P, L, I, E):\n",
    "    d = P*np.power(L, 3)/(3*E*I)\n",
    "    return d"
   ]
  },
  {
   "cell_type": "code",
   "execution_count": 8,
   "metadata": {},
   "outputs": [],
   "source": [
    "# calculate the lowest critical load for a fixed-free column of length L, Youngs modulus E, and area moment of inertia I\n",
    "def critical_load(L, E, I):\n",
    "    p_critical = (np.pi**2)*E*I/(4*(L**2))\n",
    "    return p_critical"
   ]
  },
  {
   "cell_type": "code",
   "execution_count": 9,
   "metadata": {},
   "outputs": [],
   "source": [
    "# calculate the critical stress for a fixed-free column of cross-sectional area A and critical load p_critical\n",
    "def critical_stress(A, p_critical):\n",
    "    sigma_critical = p_critical/A\n",
    "    return sigma_critical"
   ]
  },
  {
   "cell_type": "code",
   "execution_count": 10,
   "metadata": {},
   "outputs": [],
   "source": [
    "# calculate the allowable stress based on the yield strength of the material Y and the desired factor of safety F\n",
    "def allowable_stress(Y, F):\n",
    "    sigma_allowable = Y/F\n",
    "    return sigma_allowable"
   ]
  },
  {
   "cell_type": "code",
   "execution_count": 37,
   "metadata": {},
   "outputs": [],
   "source": [
    "# generate the NIST curve fit equation\n",
    "def thermal_conductivity(temp, coefficients):\n",
    "    log_k = 0.\n",
    "    for n in range(len(coefficients)):\n",
    "        log_k += coefficients[n]*(np.power(np.log10(temp), n))\n",
    "    return np.power(10, log_k)"
   ]
  },
  {
   "cell_type": "code",
   "execution_count": 38,
   "metadata": {},
   "outputs": [],
   "source": [
    "# calculates conducted heat per leg of the x\n",
    "def get_q(ks, t1, t2, g):\n",
    "    k = np.average(ks[t1-1:t2])\n",
    "    q = k*(t2-t1)*g\n",
    "    return q"
   ]
  },
  {
   "cell_type": "code",
   "execution_count": 12,
   "metadata": {},
   "outputs": [],
   "source": [
    "# mechanical parameters\n",
    "E_295 = 22.4e9\n",
    "E_76 = 27e9\n",
    "E_4 = 29.1e9\n",
    "Y = to_pa(9430)\n",
    "P_300 = to_kg(71)*9.8\n",
    "P_40 = to_kg(30)*9.8\n",
    "thicknesses_inches = [1/8., 3/16., 1/4., 3/8., 1/2.]\n",
    "thicknesses_m = [to_m(i) for i in thicknesses_inches]\n",
    "base_width = 0.01228\n",
    "leg_width = 0.01533\n",
    "node_width = to_m(0.88)\n",
    "support_height = to_m(4)\n",
    "leg_length = 0.13974"
   ]
  },
  {
   "cell_type": "code",
   "execution_count": 36,
   "metadata": {},
   "outputs": [],
   "source": [
    "# coefficients of thermal conductivity fit equation from NIST\n",
    "a = -4.1236\n",
    "b = 13.788\n",
    "c = -26.068\n",
    "d = 26.272\n",
    "e = -14.663\n",
    "f = 4.4954\n",
    "g = -0.6905\n",
    "h = 0.0397\n",
    "coefficients = [a, b, c, d, e, f, g, h]"
   ]
  },
  {
   "cell_type": "code",
   "execution_count": 71,
   "metadata": {},
   "outputs": [],
   "source": [
    "load = to_kg(60)*9.8\n",
    "deflections_295 = []\n",
    "deflections_76 = []\n",
    "deflections_4 = []\n",
    "deflection_moments = []\n",
    "for t in thicknesses_m:\n",
    "    i = moment_of_inertia(base_width, t)\n",
    "    deflection_moments.append(moment_of_inertia(base_width, t))\n",
    "    deflections_295.append(1000*deflection(load, support_height, i, E_295)/3.)\n",
    "    deflections_76.append(1000*deflection(load, support_height, i, E_76)/3.)\n",
    "    deflections_4.append(1000*deflection(load, support_height, i, E_4)/3.)"
   ]
  },
  {
   "cell_type": "code",
   "execution_count": 72,
   "metadata": {},
   "outputs": [
    {
     "data": {
      "image/png": "[encoded data removed]",
      "text/plain": [
       "<Figure size 432x288 with 1 Axes>"
      ]
     },
     "metadata": {
      "needs_background": "light"
     },
     "output_type": "display_data"
    }
   ],
   "source": [
    "plt.scatter(thicknesses_inches, deflections_295, color='red', label='T = 295K')\n",
    "plt.scatter(thicknesses_inches, deflections_76, color='blue', label='T = 76K')\n",
    "plt.scatter(thicknesses_inches, deflections_4, color='green', label='T = 4K')\n",
    "plt.xlabel('G10 Thickness (inches)')\n",
    "plt.ylabel('Lateral Deflection (mm)')\n",
    "plt.legend()\n",
    "plt.title('Lateral Deflections of G10 Supports - 60lb load')\n",
    "plt.savefig('C:\\\\Users\\jemoor15\\Desktop\\deflection60.png')"
   ]
  },
  {
   "cell_type": "code",
   "execution_count": 73,
   "metadata": {},
   "outputs": [],
   "source": [
    "deflection_data = pd.DataFrame(columns=['G10 Thickness (inches)', 'I (m^4)', 'Deflection (mm @ 295K)', 'Deflection (mm @ 76K)', 'Deflection (mm @ 4K)'])"
   ]
  },
  {
   "cell_type": "code",
   "execution_count": 74,
   "metadata": {},
   "outputs": [],
   "source": [
    "deflection_data['G10 Thickness (inches)'] = thicknesses_inches\n",
    "deflection_data['I (m^4)'] = deflection_moments\n",
    "deflection_data['Deflection (mm @ 295K)'] = deflections_295\n",
    "deflection_data['Deflection (mm @ 76K)'] = deflections_76\n",
    "deflection_data['Deflection (mm @ 4K)'] = deflections_4\n",
    "deflection_data.set_index('G10 Thickness (inches)')\n",
    "deflection_data.to_csv('C:\\\\Users\\jemoor15\\Desktop\\Deflection_Data60.csv')"
   ]
  },
  {
   "cell_type": "code",
   "execution_count": 39,
   "metadata": {},
   "outputs": [],
   "source": [
    "temps = np.linspace(1, 400, 400)\n",
    "ks = []\n",
    "for temp in temps:\n",
    "    ks.append(thermal_conductivity(temp, coefficients))"
   ]
  },
  {
   "cell_type": "code",
   "execution_count": 40,
   "metadata": {},
   "outputs": [],
   "source": [
    "gs = []\n",
    "for t in thicknesses_m:\n",
    "    g = (leg_width*t/leg_length)\n",
    "    gs.append(g)"
   ]
  },
  {
   "cell_type": "code",
   "execution_count": 53,
   "metadata": {},
   "outputs": [],
   "source": [
    "qs4 = []\n",
    "qs40 = []\n",
    "for g in gs:\n",
    "    qs4.append(2* get_q(ks, 4, 40, g)*1000)\n",
    "    qs40.append(2*get_q(ks, 40, 300, g)*1000)"
   ]
  },
  {
   "cell_type": "code",
   "execution_count": 69,
   "metadata": {},
   "outputs": [
    {
     "data": {
      "image/png": "[encoded data removed]",
      "text/plain": [
       "<Figure size 432x288 with 1 Axes>"
      ]
     },
     "metadata": {
      "needs_background": "light"
     },
     "output_type": "display_data"
    }
   ],
   "source": [
    "plt.scatter(thicknesses_inches, qs4, color='green', marker='o', label='T = 4K-40K')\n",
    "plt.scatter(thicknesses_inches, qs40, color='blue', marker='o', label='T = 40K-300K')\n",
    "plt.legend()\n",
    "plt.xlabel('G10 Thickness (inches)')\n",
    "plt.ylabel('Heat conducted per support (mW)')\n",
    "plt.title('G10 Heat Conduction')\n",
    "plt.savefig('C:\\\\Users\\jemoor15\\Desktop\\HeatConduction.png')"
   ]
  },
  {
   "cell_type": "code",
   "execution_count": 61,
   "metadata": {},
   "outputs": [],
   "source": [
    "heat_data = pd.DataFrame(columns=['G10 Thickness (inches)', 'Heat Transfer Per Support (mW, 300K-40K)', 'Heat Transfer Per Support (mW, 40K-4K)'])\n",
    "heat_data['G10 Thickness (inches)'] = thicknesses_inches\n",
    "heat_data['Heat Transfer Per Support (mW, 300K-40K)'] = qs40\n",
    "heat_data['Heat Transfer Per Support (mW, 40K-4K)'] = qs4\n",
    "heat_data.set_index('G10 Thickness (inches)')\n",
    "heat_data.to_csv('C:\\\\Users\\jemoor15\\Desktop\\HeatTransferData.csv')"
   ]
  },
  {
   "cell_type": "code",
   "execution_count": 66,
   "metadata": {},
   "outputs": [
    {
     "data": {
      "text/html": [
       "<div>\n",
       "<style scoped>\n",
       "    .dataframe tbody tr th:only-of-type {\n",
       "        vertical-align: middle;\n",
       "    }\n",
       "\n",
       "    .dataframe tbody tr th {\n",
       "        vertical-align: top;\n",
       "    }\n",
       "\n",
       "    .dataframe thead th {\n",
       "        text-align: right;\n",
       "    }\n",
       "</style>\n",
       "<table border=\"1\" class=\"dataframe\">\n",
       "  <thead>\n",
       "    <tr style=\"text-align: right;\">\n",
       "      <th></th>\n",
       "      <th>G10 Thickness (inches)</th>\n",
       "      <th>Heat Transfer Per Support (mW, 300K-40K)</th>\n",
       "      <th>Heat Transfer Per Support (mW, 40K-4K)</th>\n",
       "    </tr>\n",
       "  </thead>\n",
       "  <tbody>\n",
       "    <tr>\n",
       "      <th>0</th>\n",
       "      <td>0.1250</td>\n",
       "      <td>73.856546</td>\n",
       "      <td>3.973861</td>\n",
       "    </tr>\n",
       "    <tr>\n",
       "      <th>1</th>\n",
       "      <td>0.1875</td>\n",
       "      <td>110.784819</td>\n",
       "      <td>5.960792</td>\n",
       "    </tr>\n",
       "    <tr>\n",
       "      <th>2</th>\n",
       "      <td>0.2500</td>\n",
       "      <td>147.713092</td>\n",
       "      <td>7.947723</td>\n",
       "    </tr>\n",
       "    <tr>\n",
       "      <th>3</th>\n",
       "      <td>0.3750</td>\n",
       "      <td>221.569638</td>\n",
       "      <td>11.921584</td>\n",
       "    </tr>\n",
       "    <tr>\n",
       "      <th>4</th>\n",
       "      <td>0.5000</td>\n",
       "      <td>295.426184</td>\n",
       "      <td>15.895445</td>\n",
       "    </tr>\n",
       "  </tbody>\n",
       "</table>\n",
       "</div>"
      ],
      "text/plain": [
       "   G10 Thickness (inches)  Heat Transfer Per Support (mW, 300K-40K)  \\\n",
       "0                  0.1250                                 73.856546   \n",
       "1                  0.1875                                110.784819   \n",
       "2                  0.2500                                147.713092   \n",
       "3                  0.3750                                221.569638   \n",
       "4                  0.5000                                295.426184   \n",
       "\n",
       "   Heat Transfer Per Support (mW, 40K-4K)  \n",
       "0                                3.973861  \n",
       "1                                5.960792  \n",
       "2                                7.947723  \n",
       "3                               11.921584  \n",
       "4                               15.895445  "
      ]
     },
     "execution_count": 66,
     "metadata": {},
     "output_type": "execute_result"
    }
   ],
   "source": [
    "heat_data"
   ]
  },
  {
   "cell_type": "code",
   "execution_count": null,
   "metadata": {},
   "outputs": [],
   "source": []
  }
 ],
 "metadata": {
  "kernelspec": {
   "display_name": "Python 3",
   "language": "python",
   "name": "python3"
  },
  "language_info": {
   "codemirror_mode": {
    "name": "ipython",
    "version": 3
   },
   "file_extension": ".py",
   "mimetype": "text/x-python",
   "name": "python",
   "nbconvert_exporter": "python",
   "pygments_lexer": "ipython3",
   "version": "3.7.1"
  }
 },
 "nbformat": 4,
 "nbformat_minor": 2
}
