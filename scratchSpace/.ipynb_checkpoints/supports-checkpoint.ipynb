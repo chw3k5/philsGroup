{
 "cells": [
  {
   "cell_type": "code",
   "execution_count": 87,
   "metadata": {},
   "outputs": [],
   "source": [
    "%matplotlib inline\n",
    "import numpy as np\n",
    "import matplotlib.pyplot as plt"
   ]
  },
  {
   "cell_type": "code",
   "execution_count": 262,
   "metadata": {},
   "outputs": [],
   "source": [
    "L = 4 # in\n",
    "w = 0.88 # in\n",
    "t = [1/32., 1/16., 3/32., 1/8., 3/16., 1/4., 3/8., 1/2., 5/8., 3/4., 1., 5/4., 3/2., 2.] # in\n",
    "E = 1.74e6 # psi"
   ]
  },
  {
   "cell_type": "code",
   "execution_count": 229,
   "metadata": {},
   "outputs": [],
   "source": [
    "def moment_of_inertia(w, t):\n",
    "    I = w*np.power(t, 3)/12\n",
    "    return I"
   ]
  },
  {
   "cell_type": "code",
   "execution_count": 230,
   "metadata": {},
   "outputs": [],
   "source": [
    "def critical_load(E, L, w, t):\n",
    "    I = moment_of_inertia(w, t)\n",
    "    p_cr = np.pi**2 * E * I /(L**2)\n",
    "    return p_cr"
   ]
  },
  {
   "cell_type": "code",
   "execution_count": 91,
   "metadata": {
    "collapsed": true
   },
   "outputs": [
    {
     "name": "stdout",
     "output_type": "stream",
     "text": [
      "2.2379557291666667e-06\n",
      "1.7903645833333333e-05\n",
      "6.0424804687500006e-05\n",
      "0.00014322916666666667\n",
      "0.00048339843750000005\n",
      "0.0011458333333333333\n",
      "0.0038671875000000004\n",
      "0.009166666666666667\n",
      "0.017903645833333332\n",
      "0.030937500000000003\n",
      "0.07333333333333333\n",
      "0.14322916666666666\n",
      "0.24750000000000003\n",
      "0.5866666666666667\n"
     ]
    }
   ],
   "source": [
    "p_cr = []\n",
    "for i in t:\n",
    "    p_cr.append((i, critical_load(E, L, w, i)))"
   ]
  },
  {
   "cell_type": "code",
   "execution_count": 92,
   "metadata": {},
   "outputs": [],
   "source": [
    "x, y = zip(*p_cr)"
   ]
  },
  {
   "cell_type": "code",
   "execution_count": 59,
   "metadata": {},
   "outputs": [
    {
     "data": {
      "image/png": "[encoded data removed]",
      "text/plain": [
       "<Figure size 432x288 with 1 Axes>"
      ]
     },
     "metadata": {
      "needs_background": "light"
     },
     "output_type": "display_data"
    }
   ],
   "source": [
    "plt.semilogy(x, y, marker='o')\n",
    "plt.axhline(y[3], ls = '--', label=str(np.round(y[3], 2))+' pounds')\n",
    "plt.legend()\n",
    "plt.xlabel('G10 thickness (inches)')\n",
    "plt.ylabel('Critical Load (pounds)')\n",
    "plt.title('Critical Loads for G10 Supports')\n",
    "plt.savefig('C:\\\\Users\\jemoor15\\Desktop\\pcr.pdf')"
   ]
  },
  {
   "cell_type": "code",
   "execution_count": 93,
   "metadata": {},
   "outputs": [],
   "source": [
    "e_cold = -6. # in\n",
    "e_h = 7. # in\n",
    "p_cold = 23. # pounds\n",
    "p_h = 5 # pounds\n",
    "t_cold = e_cold*p_cold*-1.\n",
    "t_h = e_h*p_h*-1.\n",
    "p_tot = p_cold + p_h\n",
    "e_ab = (t_cold + t_h)/p_tot\n",
    "e_c = e_ab-e_h"
   ]
  },
  {
   "cell_type": "code",
   "execution_count": 101,
   "metadata": {},
   "outputs": [],
   "source": [
    "def deflection(e_tot, p, p_crit):\n",
    "    arg = (np.pi/2)*np.sqrt(p/p_crit)\n",
    "    print(np.cos(arg))\n",
    "    return float(e_tot*((1/np.cos(arg))-1))"
   ]
  },
  {
   "cell_type": "code",
   "execution_count": 102,
   "metadata": {},
   "outputs": [
    {
     "name": "stdout",
     "output_type": "stream",
     "text": [
      "3.6785714285714284 28.0\n",
      "0.605681015217797\n",
      "2.4020414764003792 2.3948753794792577\n",
      "-0.31960651692553693\n",
      "19.216331811203034 -15.188259854068942\n",
      "0.5130072212310933\n",
      "64.85511986281026 3.4920321737399505\n",
      "0.7835879309949133\n",
      "153.73065448962427 1.0159513978595314\n",
      "0.9341570818801036\n",
      "518.840958902482 0.25927960304293407\n",
      "0.9720434669174862\n",
      "1229.8452359169942 0.1057978447870961\n",
      "0.9916892335585528\n",
      "4150.727671219856 0.030827951889056182\n",
      "0.9964910822194913\n",
      "9838.761887335953 0.012953256605002421\n",
      "0.9982029209520811\n",
      "19216.331811203032 0.0066225849492141465\n",
      "0.9989598924171506\n",
      "33205.82136975885 0.0038300937464594365\n",
      "0.9995611606270682\n",
      "78710.09509868763 0.0016150107092862051\n",
      "0.9997753062206959\n",
      "153730.65448962426 0.0008267378795844112\n",
      "0.9998699668260972\n",
      "265646.5709580708 0.0004783985259641045\n",
      "0.9999451415674127\n",
      "629680.760789501 0.00020181173380720164\n"
     ]
    }
   ],
   "source": [
    "print(e_ab, p_tot)\n",
    "for i in y:\n",
    "    print(i, deflection(e_ab, p_tot, i))"
   ]
  },
  {
   "cell_type": "code",
   "execution_count": 125,
   "metadata": {},
   "outputs": [
    {
     "name": "stdout",
     "output_type": "stream",
     "text": [
      "153.73065448962427\n",
      "142.9322678027912\n"
     ]
    }
   ],
   "source": [
    "max_stress = max_comp(E, L, w, 0.125, 28, 4)"
   ]
  },
  {
   "cell_type": "code",
   "execution_count": 137,
   "metadata": {},
   "outputs": [],
   "source": [
    "def radius_of_gyration(w, t):\n",
    "    I = moment_of_inertia(w, t)\n",
    "    a = w*t\n",
    "    r = np.sqrt(I/a)\n",
    "    return r"
   ]
  },
  {
   "cell_type": "code",
   "execution_count": 149,
   "metadata": {},
   "outputs": [],
   "source": [
    "def ecc_ratio(ecc, w, t):\n",
    "    I = moment_of_inertia(w, t)\n",
    "    a = w*t\n",
    "    c = t/2.\n",
    "    r = np.sqrt(I/a)\n",
    "    er = ecc*c/(r**2)\n",
    "    return er"
   ]
  },
  {
   "cell_type": "code",
   "execution_count": 150,
   "metadata": {},
   "outputs": [],
   "source": [
    "vals = []\n",
    "for i in t:\n",
    "    er = ecc_ratio(4, w, i)\n",
    "    stress = p_tot/(w*i)\n",
    "    r = radius_of_gyration(w, i)\n",
    "    vals.append((L/r, stress))"
   ]
  },
  {
   "cell_type": "code",
   "execution_count": 154,
   "metadata": {},
   "outputs": [
    {
     "data": {
      "text/plain": [
       "<matplotlib.lines.Line2D at 0x138d2ff0>"
      ]
     },
     "execution_count": 154,
     "metadata": {},
     "output_type": "execute_result"
    },
    {
     "data": {
      "image/png": "[encoded data removed]",
      "text/plain": [
       "<Figure size 432x288 with 1 Axes>"
      ]
     },
     "metadata": {
      "needs_background": "light"
     },
     "output_type": "display_data"
    }
   ],
   "source": [
    "x, y = zip(*vals)\n",
    "plt.loglog(x, y, marker='o')\n",
    "plt.axvline(x[3], ls = '--')\n",
    "plt.axhline(9430, ls = '--')"
   ]
  },
  {
   "cell_type": "code",
   "execution_count": 243,
   "metadata": {},
   "outputs": [
    {
     "data": {
      "text/plain": [
       "1.9626608513838704"
      ]
     },
     "execution_count": 243,
     "metadata": {},
     "output_type": "execute_result"
    }
   ],
   "source": [
    "np.sqrt(30./critical_load(1.74e6, 4., 0.88, 0.0625))*(np.pi/2)\n"
   ]
  },
  {
   "cell_type": "code",
   "execution_count": 301,
   "metadata": {},
   "outputs": [],
   "source": [
    "def max_bend(E, L, w, t, p_tot, ecc):\n",
    "    I = moment_of_inertia(w, t)\n",
    "    a = w*t\n",
    "    r = np.sqrt(I/a)\n",
    "    p_cr = critical_load(E, L, w, t)\n",
    "    arg = (np.pi/2.)*np.sqrt(p_tot/p_cr)\n",
    "    M_max = p_tot*ecc/np.cos(arg)\n",
    "    print(M_max)\n",
    "    return I, a, r, p_cr, M_max\n",
    "    \n",
    "def max_comp(E, L, w, t, p_tot, ecc):\n",
    "    I, a, r, p_cr, M_max = max_bend(E, L, w, t, p_tot, ecc)\n",
    "    c = t/2.\n",
    "    sigma_max = p_tot/a + M_max*c/I\n",
    "    return p_tot/a\n",
    "#     return sigma_max"
   ]
  },
  {
   "cell_type": "code",
   "execution_count": 305,
   "metadata": {
    "scrolled": true
   },
   "outputs": [
    {
     "name": "stdout",
     "output_type": "stream",
     "text": [
      "41.539077507760545\n",
      "-80.90863402873522\n",
      "64.16351038928592\n",
      "40.19490191407155\n",
      "33.24332039967718\n",
      "31.85381156385905\n",
      "31.177589990583517\n",
      "31.016603745989578\n",
      "30.95960965193092\n",
      "30.934472980110602\n",
      "30.914535476230224\n",
      "30.90744074045485\n",
      "30.904305620063635\n",
      "30.901816311535534\n"
     ]
    }
   ],
   "source": [
    "E = 1.74e6 # psi\n",
    "L = 4.0 # in\n",
    "w = 0.88 # in\n",
    "max_stress = []\n",
    "yield_strength = 9430 # psi\n",
    "distance = 1.03\n",
    "load = 30\n",
    "sigma_critical=[]\n",
    "for i in t:\n",
    "    sigma_max = max_comp(E, L, w, i, load, distance)\n",
    "    max_stress.append(sigma_max)\n",
    "    sigma_critical.append(critical_load(E, L, w, i)/(w*i))"
   ]
  },
  {
   "cell_type": "code",
   "execution_count": 342,
   "metadata": {
    "scrolled": true
   },
   "outputs": [
    {
     "data": {
      "image/png": "[encoded data removed]",
      "text/plain": [
       "<Figure size 432x288 with 1 Axes>"
      ]
     },
     "metadata": {
      "needs_background": "light"
     },
     "output_type": "display_data"
    }
   ],
   "source": [
    "plt.semilogy(t, max_stress, marker='.', lw=0, label='Max stress')\n",
    "# for i in t:\n",
    "#     plt.axvline(i, ls = '--', color='lightgray')\n",
    "plt.axhline(yield_strength, ls ='--', color='lightgray')\n",
    "plt.scatter(t, sigma_critical, marker = '*', label='Critical stress', color = 'green')\n",
    "# plt.scatter(t, sig_yield, marker = 'x', label='Yield stress', color = 'red')\n",
    "plt.xlabel('G10 Thickness (inches)')\n",
    "plt.ylabel('Stress (psi)')\n",
    "plt.title('Maximum stress for a 30lb load')\n",
    "plt.legend()\n",
    "plt.savefig('C:\\\\Users\\jemoor15\\Desktop\\stress.pdf')"
   ]
  },
  {
   "cell_type": "code",
   "execution_count": 309,
   "metadata": {},
   "outputs": [],
   "source": [
    "fos = []\n",
    "for i in range(len(t)):\n",
    "    fos.append(sigma_critical[i]/max_stress[i])"
   ]
  },
  {
   "cell_type": "code",
   "execution_count": 339,
   "metadata": {},
   "outputs": [
    {
     "data": {
      "text/plain": [
       "<matplotlib.collections.PathCollection at 0x1c101110>"
      ]
     },
     "execution_count": 339,
     "metadata": {},
     "output_type": "execute_result"
    },
    {
     "data": {
      "image/png": "[encoded data removed]",
      "text/plain": [
       "<Figure size 864x576 with 1 Axes>"
      ]
     },
     "metadata": {
      "needs_background": "light"
     },
     "output_type": "display_data"
    }
   ],
   "source": [
    "# labels = [str(np.round(np.float(f), 2)) for f in fos]\n",
    "plt.scatter(t[0:5], fos[0:5], marker='o')\n",
    "# plt.legend(scatterpoints=len(labels))"
   ]
  },
  {
   "cell_type": "code",
   "execution_count": 341,
   "metadata": {},
   "outputs": [],
   "source": [
    "from matplotlib import RcParams\n",
    "plt.rcParams[\"figure.figsize\"] = [6, 4]"
   ]
  },
  {
   "cell_type": "code",
   "execution_count": 189,
   "metadata": {},
   "outputs": [],
   "source": [
    "def compressive_stress(t, p, w, E, L, ecc):\n",
    "    arg = (L*np.sqrt(3)/(4*t))*np.sqrt(p/(E*w*t))\n",
    "    val = (1/t)*((p/w) + (6*ecc)/np.cos(arg))\n",
    "    return val"
   ]
  },
  {
   "cell_type": "code",
   "execution_count": 195,
   "metadata": {},
   "outputs": [
    {
     "data": {
      "text/plain": [
       "<matplotlib.legend.Legend at 0x14d74970>"
      ]
     },
     "execution_count": 195,
     "metadata": {},
     "output_type": "execute_result"
    },
    {
     "data": {
      "image/png": "[encoded data removed]",
      "text/plain": [
       "<Figure size 432x288 with 1 Axes>"
      ]
     },
     "metadata": {
      "needs_background": "light"
     },
     "output_type": "display_data"
    }
   ],
   "source": [
    "plt.semilogy(x, y, marker='o')\n",
    "plt.axhline(9430, ls = '--', label = 'Maximum Allowable Stress = 9430 psi')\n",
    "plt.xlabel('G10 Thickness (inches)')\n",
    "plt.ylabel('Maximum Compressive Stress (psi)')\n",
    "plt.legend()"
   ]
  },
  {
   "cell_type": "code",
   "execution_count": 206,
   "metadata": {},
   "outputs": [],
   "source": [
    "loads = np.linspace(0, 100, 101)\n"
   ]
  },
  {
   "cell_type": "code",
   "execution_count": 217,
   "metadata": {},
   "outputs": [],
   "source": [
    "s = []\n",
    "for i in t:\n",
    "    sigma = compressive_stress(i, 38, 0.88, 1.74e6, 4., 4.)\n",
    "    s.append((sigma/E, sigma))"
   ]
  },
  {
   "cell_type": "code",
   "execution_count": 224,
   "metadata": {},
   "outputs": [
    {
     "data": {
      "text/plain": [
       "<matplotlib.lines.Line2D at 0x16c16990>"
      ]
     },
     "execution_count": 224,
     "metadata": {},
     "output_type": "execute_result"
    },
    {
     "data": {
      "image/png": "[encoded data removed]",
      "text/plain": [
       "<Figure size 432x288 with 1 Axes>"
      ]
     },
     "metadata": {
      "needs_background": "light"
     },
     "output_type": "display_data"
    }
   ],
   "source": [
    "x, y = zip(*s)\n",
    "plt.scatter(x, y, label = str(i), marker='o')\n",
    "plt.axhline(9430, ls = '--')"
   ]
  },
  {
   "cell_type": "code",
   "execution_count": 219,
   "metadata": {},
   "outputs": [
    {
     "data": {
      "text/plain": [
       "[(0.050573633633159004, 87998.12252169667),\n",
       " (0.0006562945751088906, 1141.9525606894697),\n",
       " (0.00041874926521394754, 728.6237214722687),\n",
       " (0.00031101897645937493, 541.1730190393124),\n",
       " (0.00020633867775232215, 359.0292992890405),\n",
       " (0.00015457266806091606, 268.95644242599394),\n",
       " (0.00010298662066793405, 179.19671996220524),\n",
       " (7.722869803613234e-05, 134.37793458287027),\n",
       " (6.17797499610061e-05, 107.49676493215061),\n",
       " (5.148194334602684e-05, 89.5785814220867),\n",
       " (3.8610753808311484e-05, 67.18271162646198),\n",
       " (3.088840258324171e-05, 53.74582049484058),\n",
       " (2.5740261647654458e-05, 44.788055266918754),\n",
       " (1.9305152258438854e-05, 33.59096492968361)]"
      ]
     },
     "execution_count": 219,
     "metadata": {},
     "output_type": "execute_result"
    }
   ],
   "source": [
    "s"
   ]
  },
  {
   "cell_type": "code",
   "execution_count": 251,
   "metadata": {},
   "outputs": [],
   "source": [
    "def f(yield_strength, a, d, r, c, L, E, yield_load):\n",
    "    val = (yield_load/a)*(1 + (d*c/(r**2))/np.cos((L/(2*r))*np.sqrt(yield_load/(E*a))))\n",
    "    return val"
   ]
  },
  {
   "cell_type": "code",
   "execution_count": 256,
   "metadata": {},
   "outputs": [],
   "source": [
    "loads = np.linspace(1, 100, 100)\n",
    "t = 0.0625\n",
    "w = 0.88\n",
    "r = radius_of_gyration(w, t)\n",
    "c = t/2.\n",
    "L = 4.\n",
    "E = 1.74e6\n",
    "a = w*t\n",
    "d = 1.03\n",
    "vals = f(yield_strength, a, d, r, c, L, E, loads)"
   ]
  },
  {
   "cell_type": "code",
   "execution_count": 259,
   "metadata": {},
   "outputs": [
    {
     "data": {
      "text/plain": [
       "<matplotlib.lines.Line2D at 0x18094f10>"
      ]
     },
     "execution_count": 259,
     "metadata": {},
     "output_type": "execute_result"
    },
    {
     "data": {
      "image/png": "[encoded data removed]",
      "text/plain": [
       "<Figure size 432x288 with 1 Axes>"
      ]
     },
     "metadata": {
      "needs_background": "light"
     },
     "output_type": "display_data"
    }
   ],
   "source": [
    "plt.loglog(loads, vals, marker='o')\n",
    "plt.axhline(yield_strength, ls = '--')\n",
    "plt.axvline(19.216, ls = '-.')"
   ]
  },
  {
   "cell_type": "code",
   "execution_count": 292,
   "metadata": {},
   "outputs": [],
   "source": [
    "slenderness = []\n",
    "sig_yield = []\n",
    "for i in t:\n",
    "    slenderness.append(L/radius_of_gyration(w, i))\n",
    "    sig_yield.append(yield_strength*w*i)\n",
    "sig_crit = []\n",
    "for s in slenderness:\n",
    "    sig_crit.append((np.pi**2 * E)/(s**2))"
   ]
  },
  {
   "cell_type": "code",
   "execution_count": 267,
   "metadata": {},
   "outputs": [
    {
     "data": {
      "text/plain": [
       "[<matplotlib.lines.Line2D at 0x182ddc10>]"
      ]
     },
     "execution_count": 267,
     "metadata": {},
     "output_type": "execute_result"
    },
    {
     "data": {
      "image/png": "[encoded data removed]",
      "text/plain": [
       "<Figure size 432x288 with 1 Axes>"
      ]
     },
     "metadata": {
      "needs_background": "light"
     },
     "output_type": "display_data"
    }
   ],
   "source": [
    "plt.plot(slenderness, sig_crit)"
   ]
  },
  {
   "cell_type": "code",
   "execution_count": null,
   "metadata": {},
   "outputs": [],
   "source": []
  }
 ],
 "metadata": {
  "kernelspec": {
   "display_name": "Python 3",
   "language": "python",
   "name": "python3"
  },
  "language_info": {
   "codemirror_mode": {
    "name": "ipython",
    "version": 3
   },
   "file_extension": ".py",
   "mimetype": "text/x-python",
   "name": "python",
   "nbconvert_exporter": "python",
   "pygments_lexer": "ipython3",
   "version": "3.7.1"
  }
 },
 "nbformat": 4,
 "nbformat_minor": 1
}
